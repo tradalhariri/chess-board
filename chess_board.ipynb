{
 "cells": [
  {
   "cell_type": "code",
   "execution_count": 1,
   "id": "8119e087-5f7c-41ea-92ce-9d90ed2b711f",
   "metadata": {},
   "outputs": [],
   "source": [
    "%matplotlib inline\n",
    "import numpy as np\n",
    "import matplotlib.pyplot as plt"
   ]
  },
  {
   "cell_type": "code",
   "execution_count": 2,
   "id": "60d6da8f-ff7e-494a-a60c-96d89636a124",
   "metadata": {},
   "outputs": [],
   "source": [
    "class ChessBoard:\n",
    "    \n",
    "    def __init__(self):\n",
    "        self.board = np.ones([8,8,3])\n",
    "        self.red_coordinates = None\n",
    "        self.blue_coordinates = None\n",
    "        for i in np.ndindex(8,8):\n",
    "            row = i[0]\n",
    "            col = i[1]\n",
    "            # if row%2==0 and col%2==1 or row%2==1 and col%2==0:\n",
    "            if row%2 != col%2:\n",
    "                self.board[row, col] = [0,0,0]\n",
    "    \n",
    "    def add_red(self, row, col):\n",
    "        self._reset_queens_color(self.red_coordinates,self.blue_coordinates)            \n",
    "        self.board[row, col] = [1.,0,0]\n",
    "        self.red_coordinates = [row,col]\n",
    "        \n",
    "    \n",
    "    def _reset_queens_color(self,first_coord,second_coord):\n",
    "        if first_coord != None and second_coord != first_coord:\n",
    "            if first_coord[0]%2 != first_coord[1]%2:\n",
    "                self.board[first_coord[0], first_coord[1]] = [0,0,0]\n",
    "            else:\n",
    "                self.board[first_coord[0], first_coord[1]] = [1.,1.,1.] \n",
    "        \n",
    "    \n",
    "    def add_blue(self, row, col):\n",
    "        self._reset_queens_color(self.blue_coordinates,self.red_coordinates)\n",
    "        self.board[row, col] = [0,0,1.]\n",
    "        self.blue_coordinates = [row,col]\n",
    "    \n",
    "    def render(self):\n",
    "        plt.imshow(self.board)\n",
    "    @staticmethod    \n",
    "    def _is_diagonal(red_coord,blue_coord):\n",
    "        if red_coord[0]+blue_coord[1] == red_coord[1]+ blue_coord[0]:\n",
    "            return True\n",
    "        if red_coord[0] - blue_coord[1] ==   blue_coord[0] - red_coord[1]:\n",
    "            return True\n",
    "        return False\n",
    "    \n",
    "    def is_under_attack(self):\n",
    "        \n",
    "        red_coord = self.red_coordinates\n",
    "        blue_coord = self.blue_coordinates\n",
    "        \n",
    "        if red_coord[0] == blue_coord[0]:\n",
    "            return True\n",
    "        \n",
    "        if red_coord[1] == blue_coord[1]:\n",
    "            return True\n",
    "        if ChessBoard._is_diagonal(red_coord,blue_coord):\n",
    "            return True\n",
    "        return False\n",
    "        "
   ]
  },
  {
   "cell_type": "code",
   "execution_count": 3,
   "id": "351e0898-cbca-4e9d-b950-0890e068b5b9",
   "metadata": {},
   "outputs": [],
   "source": [
    "chess_board = ChessBoard()\n"
   ]
  },
  {
   "cell_type": "code",
   "execution_count": 4,
   "id": "384fc151-d3ef-433e-a546-bd7561af91bf",
   "metadata": {},
   "outputs": [
    {
     "data": {
      "image/png": "[encoded data removed]",
      "text/plain": [
       "<Figure size 432x288 with 1 Axes>"
      ]
     },
     "metadata": {
      "needs_background": "light"
     },
     "output_type": "display_data"
    }
   ],
   "source": [
    "chess_board.render()"
   ]
  },
  {
   "cell_type": "code",
   "execution_count": 5,
   "id": "603bc2a1-b9bf-4bc5-b5a7-3a3c31de352b",
   "metadata": {},
   "outputs": [
    {
     "name": "stdout",
     "output_type": "stream",
     "text": [
      "True\n"
     ]
    }
   ],
   "source": [
    "chess_board.add_red(0,3)\n",
    "chess_board.add_blue(3,0)\n",
    "\n",
    "print(chess_board.is_under_attack())"
   ]
  },
  {
   "cell_type": "code",
   "execution_count": 6,
   "id": "9cb878ac-707c-427e-805d-11e38e6bb623",
   "metadata": {},
   "outputs": [
    {
     "data": {
      "image/png": "[encoded data removed]",
      "text/plain": [
       "<Figure size 432x288 with 1 Axes>"
      ]
     },
     "metadata": {
      "needs_background": "light"
     },
     "output_type": "display_data"
    }
   ],
   "source": [
    "chess_board.render()"
   ]
  },
  {
   "cell_type": "code",
   "execution_count": 7,
   "id": "43d32158-e2fd-404d-bde3-ed6e5d78dc86",
   "metadata": {},
   "outputs": [
    {
     "data": {
      "image/png": "[encoded data removed]",
      "text/plain": [
       "<Figure size 432x288 with 1 Axes>"
      ]
     },
     "metadata": {
      "needs_background": "light"
     },
     "output_type": "display_data"
    }
   ],
   "source": [
    "chess_board.add_red(0,3)\n",
    "chess_board.add_blue(3,0)\n",
    "\n",
    "assert chess_board.is_under_attack() == True\n",
    "\n",
    "chess_board.render()"
   ]
  },
  {
   "cell_type": "code",
   "execution_count": 8,
   "id": "f778fc88-1b25-48b8-91e0-a7e51d70767c",
   "metadata": {},
   "outputs": [
    {
     "data": {
      "image/png": "[encoded data removed]",
      "text/plain": [
       "<Figure size 432x288 with 1 Axes>"
      ]
     },
     "metadata": {
      "needs_background": "light"
     },
     "output_type": "display_data"
    }
   ],
   "source": [
    "chess_board.add_red(3,0)\n",
    "chess_board.add_blue(3,6)\n",
    "\n",
    "assert chess_board.is_under_attack() == True\n",
    "chess_board.render()"
   ]
  },
  {
   "cell_type": "code",
   "execution_count": 9,
   "id": "327df4ba-bcaa-4fc3-ba99-432d1cd3e669",
   "metadata": {},
   "outputs": [
    {
     "data": {
      "image/png": "[encoded data removed]",
      "text/plain": [
       "<Figure size 432x288 with 1 Axes>"
      ]
     },
     "metadata": {
      "needs_background": "light"
     },
     "output_type": "display_data"
    }
   ],
   "source": [
    "chess_board.add_red(3,3)\n",
    "chess_board.add_blue(7,3)\n",
    "\n",
    "assert chess_board.is_under_attack() == True\n",
    "chess_board.render()"
   ]
  },
  {
   "cell_type": "code",
   "execution_count": 10,
   "id": "5646c920-5fb6-41e5-a14b-c5c9c6308ed7",
   "metadata": {},
   "outputs": [
    {
     "data": {
      "image/png": "[encoded data removed]",
      "text/plain": [
       "<Figure size 432x288 with 1 Axes>"
      ]
     },
     "metadata": {
      "needs_background": "light"
     },
     "output_type": "display_data"
    }
   ],
   "source": [
    "chess_board.add_red(2,0)\n",
    "chess_board.add_blue(5,3)\n",
    "\n",
    "assert chess_board.is_under_attack() == True\n",
    "chess_board.render()"
   ]
  },
  {
   "cell_type": "code",
   "execution_count": 11,
   "id": "132c5088-d6e5-444f-8d5d-fa20a6531ccb",
   "metadata": {},
   "outputs": [
    {
     "data": {
      "image/png": "[encoded data removed]",
      "text/plain": [
       "<Figure size 432x288 with 1 Axes>"
      ]
     },
     "metadata": {
      "needs_background": "light"
     },
     "output_type": "display_data"
    }
   ],
   "source": [
    "chess_board.add_red(1,5)\n",
    "chess_board.add_blue(4,2)\n",
    "\n",
    "assert chess_board.is_under_attack() == True\n",
    "chess_board.render()"
   ]
  },
  {
   "cell_type": "code",
   "execution_count": 12,
   "id": "96a941fb-9c12-4d4a-a913-9823f735fa86",
   "metadata": {},
   "outputs": [
    {
     "data": {
      "image/png": "[encoded data removed]",
      "text/plain": [
       "<Figure size 432x288 with 1 Axes>"
      ]
     },
     "metadata": {
      "needs_background": "light"
     },
     "output_type": "display_data"
    }
   ],
   "source": [
    "chess_board.add_red(1,5)\n",
    "chess_board.add_blue(3,1)\n",
    "\n",
    "assert chess_board.is_under_attack() == False\n",
    "chess_board.render()"
   ]
  }
 ],
 "metadata": {
  "kernelspec": {
   "display_name": "Python 3 (ipykernel)",
   "language": "python",
   "name": "python3"
  },
  "language_info": {
   "codemirror_mode": {
    "name": "ipython",
    "version": 3
   },
   "file_extension": ".py",
   "mimetype": "text/x-python",
   "name": "python",
   "nbconvert_exporter": "python",
   "pygments_lexer": "ipython3",
   "version": "3.9.5"
  }
 },
 "nbformat": 4,
 "nbformat_minor": 5
}
